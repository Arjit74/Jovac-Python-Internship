{
 "cells": [
  {
   "cell_type": "markdown",
   "id": "f5fe23ed",
   "metadata": {},
   "source": [
    "Task 1: Theory Questions\n"
   ]
  },
  {
   "cell_type": "code",
   "execution_count": null,
   "id": "05bde8c4",
   "metadata": {},
   "outputs": [],
   "source": [
    "# 1. Naive Bayes relies on the fundamental assumption that every input feature contributes independently to the output class, given the label.\n",
    "\n",
    "# 2. GaussianNB suits continuous-valued inputs with Gaussian distribution, MultinomialNB works well with frequency/count-based features, while BernoulliNB expects binary (0/1) input, typical in text classification.\n",
    "\n",
    "# 3. The model’s simplicity and independence assumption make it highly scalable and efficient for datasets with thousands of features (e.g., words in documents).\n"
   ]
  },
  {
   "cell_type": "markdown",
   "id": "052f8bfa",
   "metadata": {},
   "source": [
    "Task 2: Spam Detection using MultinomialNB"
   ]
  },
  {
   "cell_type": "code",
   "execution_count": 1,
   "metadata": {},
   "outputs": [
    {
     "name": "stdout",
     "output_type": "stream",
     "text": [
      "Classification Report:\n",
      "               precision    recall  f1-score   support\n",
      "\n",
      "         ham       0.96      1.00      0.98      1451\n",
      "        spam       1.00      0.71      0.83       221\n",
      "\n",
      "    accuracy                           0.96      1672\n",
      "   macro avg       0.98      0.85      0.90      1672\n",
      "weighted avg       0.96      0.96      0.96      1672\n",
      "\n",
      "Confusion Matrix:\n",
      " [[1451    0]\n",
      " [  65  156]]\n"
     ]
    }
   ],
   "source": [
    "import pandas as pd\n",
    "from sklearn.model_selection import train_test_split\n",
    "from sklearn.naive_bayes import MultinomialNB\n",
    "from sklearn.feature_extraction.text import TfidfVectorizer\n",
    "from sklearn.metrics import classification_report, confusion_matrix\n",
    "\n",
    "# Load dataset\n",
    "url = \"https://raw.githubusercontent.com/justmarkham/pycon-2016-tutorial/master/data/sms.tsv\"\n",
    "dataset = pd.read_csv(url, sep='\\t', header=None, names=[\"Category\", \"Message\"])\n",
    "\n",
    "# Split the data\n",
    "X_msg = dataset['Message']\n",
    "y_label = dataset['Category']\n",
    "X_msg_train, X_msg_test, y_label_train, y_label_test = train_test_split(X_msg, y_label, random_state=0, test_size=0.3)\n",
    "\n",
    "# Vectorize using TF-IDF\n",
    "vectorizer = TfidfVectorizer()\n",
    "X_train_vect = vectorizer.fit_transform(X_msg_train)\n",
    "X_test_vect = vectorizer.transform(X_msg_test)\n",
    "\n",
    "# Train classifier\n",
    "nb_model = MultinomialNB()\n",
    "nb_model.fit(X_train_vect, y_label_train)\n",
    "y_predicted = nb_model.predict(X_test_vect)\n",
    "\n",
    "# Evaluate\n",
    "print(\"Classification Report:\\n\", classification_report(y_label_test, y_predicted, target_names=['ham', 'spam']))\n",
    "print(\"Confusion Matrix:\\n\", confusion_matrix(y_label_test, y_predicted))\n"
   ]
  },
  {
   "cell_type": "markdown",
   "id": "4aaa4193",
   "metadata": {},
   "source": [
    "Task 3: GaussianNB with Iris or Wine Dataset"
   ]
  },
  {
   "cell_type": "code",
   "execution_count": 3,
   "id": "06571065",
   "metadata": {},
   "outputs": [
    {
     "name": "stdout",
     "output_type": "stream",
     "text": [
      "GaussianNB Accuracy: 1.000\n",
      "Logistic Regression Accuracy: 1.000\n",
      "Decision Tree Accuracy: 1.000\n"
     ]
    }
   ],
   "source": [
    "from sklearn.datasets import load_iris\n",
    "from sklearn.naive_bayes import GaussianNB\n",
    "from sklearn.linear_model import LogisticRegression\n",
    "from sklearn.tree import DecisionTreeClassifier\n",
    "from sklearn.model_selection import train_test_split\n",
    "from sklearn.metrics import accuracy_score\n",
    "\n",
    "# Load Iris data\n",
    "iris = load_iris()\n",
    "X_data, y_data = iris.data, iris.target\n",
    "\n",
    "# Train-test split\n",
    "X_train, X_test, y_train, y_test = train_test_split(X_data, y_data, test_size=0.25, random_state=42)\n",
    "\n",
    "# Gaussian NB\n",
    "model_gnb = GaussianNB()\n",
    "model_gnb.fit(X_train, y_train)\n",
    "gnb_acc = accuracy_score(y_test, model_gnb.predict(X_test))\n",
    "\n",
    "# Logistic Regression\n",
    "model_lr = LogisticRegression(max_iter=200)\n",
    "model_lr.fit(X_train, y_train)\n",
    "lr_acc = accuracy_score(y_test, model_lr.predict(X_test))\n",
    "\n",
    "# Decision Tree\n",
    "model_tree = DecisionTreeClassifier()\n",
    "model_tree.fit(X_train, y_train)\n",
    "tree_acc = accuracy_score(y_test, model_tree.predict(X_test))\n",
    "\n",
    "print(f\"GaussianNB Accuracy: {gnb_acc:.3f}\")\n",
    "print(f\"Logistic Regression Accuracy: {lr_acc:.3f}\")\n",
    "print(f\"Decision Tree Accuracy: {tree_acc:.3f}\")\n"
   ]
  }
 ],
 "metadata": {
  "kernelspec": {
   "display_name": "Python 3",
   "language": "python",
   "name": "python3"
  },
  "language_info": {
   "codemirror_mode": {
    "name": "ipython",
    "version": 3
   },
   "file_extension": ".py",
   "mimetype": "text/x-python",
   "name": "python",
   "nbconvert_exporter": "python",
   "pygments_lexer": "ipython3",
   "version": "3.10.9"
  }
 },
 "nbformat": 4,
 "nbformat_minor": 5
}
